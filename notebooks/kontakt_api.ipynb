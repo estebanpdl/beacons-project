{
 "cells": [
  {
   "cell_type": "code",
   "execution_count": 2,
   "metadata": {},
   "outputs": [],
   "source": [
    "# import modules\n",
    "import requests\n",
    "import json\n",
    "import pandas as pd\n",
    "\n",
    "# stompest connection\n",
    "from stompest.config import StompConfig\n",
    "from stompest.sync import Stomp"
   ]
  },
  {
   "cell_type": "code",
   "execution_count": 3,
   "metadata": {
    "collapsed": true
   },
   "outputs": [],
   "source": [
    "# api key\n",
    "api_key = 'DNwJnXSswWOkrwbjYeYUtWphDjrpnHjr'"
   ]
  },
  {
   "cell_type": "code",
   "execution_count": 4,
   "metadata": {
    "collapsed": true
   },
   "outputs": [],
   "source": [
    "devices_ids = ['dtTgpt', 'dtbqQs', 'dtt3Jg']"
   ]
  },
  {
   "cell_type": "markdown",
   "metadata": {
    "collapsed": true
   },
   "source": [
    "### `Get methods`"
   ]
  },
  {
   "cell_type": "code",
   "execution_count": 5,
   "metadata": {
    "collapsed": true
   },
   "outputs": [],
   "source": [
    "headers = {\n",
    "    'Api-key': api_key,\n",
    "    'Accept': 'application/vnd.com.kontakt+json;version=10'\n",
    "}\n",
    "response = requests.get(f'https://api.kontakt.io/venue?access=OWNER', headers=headers)"
   ]
  },
  {
   "cell_type": "code",
   "execution_count": 6,
   "metadata": {},
   "outputs": [
    {
     "data": {
      "text/plain": [
       "<Response [200]>"
      ]
     },
     "execution_count": 6,
     "metadata": {},
     "output_type": "execute_result"
    }
   ],
   "source": [
    "response"
   ]
  },
  {
   "cell_type": "code",
   "execution_count": 9,
   "metadata": {
    "scrolled": false
   },
   "outputs": [
    {
     "data": {
      "text/plain": [
       "[{'access': 'OWNER',\n",
       "  'address': 'Cra. 8 #67-66',\n",
       "  'coverType': None,\n",
       "  'description': '',\n",
       "  'devicesCount': 6,\n",
       "  'id': '19635d7f-76fc-4347-8e00-a4163f7fe180',\n",
       "  'image': None,\n",
       "  'lat': 4.651681491561491,\n",
       "  'lng': -74.05876073122118,\n",
       "  'managerId': 'b6c75fc1-f8fe-4774-9faa-77672abe8e32',\n",
       "  'metadata': {'buildings': {'9dfd875b-2990-4801-8689-397779c85b85': {'floors': {'41c8c623-9a9c-4fd2-96d5-0b50f91644da': {'floorPlanName': 'dummy_plan.png',\n",
       "       'level': '0',\n",
       "       'name': '5',\n",
       "       'polygonCenter': ['-74.05876294461447', '4.651685655306928'],\n",
       "       'polygonP1': ['-74.05875204066189', '4.651759722068883'],\n",
       "       'polygonP2': ['-74.05883024956813', '4.651652431281658'],\n",
       "       'polygonP3': ['-74.05877384856984', '4.651611588544974'],\n",
       "       'polygonP4': ['-74.05869563966081', '4.6517188793259'],\n",
       "       'rotation': '234'}},\n",
       "     'level': '0',\n",
       "     'name': 'Building name'}}},\n",
       "  'name': 'Test Plan Location',\n",
       "  'shares': []}]"
      ]
     },
     "execution_count": 9,
     "metadata": {},
     "output_type": "execute_result"
    }
   ],
   "source": [
    "response.json()['venues']"
   ]
  },
  {
   "cell_type": "code",
   "execution_count": null,
   "metadata": {
    "collapsed": true
   },
   "outputs": [],
   "source": []
  },
  {
   "cell_type": "markdown",
   "metadata": {
    "collapsed": true
   },
   "source": [
    "### `Get presence and location`\n",
    "\n",
    "*`stomp`*"
   ]
  },
  {
   "cell_type": "code",
   "execution_count": null,
   "metadata": {
    "collapsed": true
   },
   "outputs": [],
   "source": [
    "server = 'ovs.kontakt.io'\n",
    "port = '8083'\n",
    "passcode = api_key"
   ]
  },
  {
   "cell_type": "code",
   "execution_count": null,
   "metadata": {},
   "outputs": [],
   "source": [
    "client = Stomp(StompConfig(f'tcp://{server}:{port}', passcode=passcode))\n",
    "client.connect(headers={'Api-key': api_key})\n",
    "client.suscribe('/stream/19635d7f-76fc-4347-8e00-a4163f7fe180/presence',  {\"ack\": \"client\", \"id\": \"0\"})"
   ]
  },
  {
   "cell_type": "code",
   "execution_count": null,
   "metadata": {
    "collapsed": true
   },
   "outputs": [],
   "source": []
  }
 ],
 "metadata": {
  "kernelspec": {
   "display_name": "Python 3",
   "language": "python",
   "name": "python3"
  },
  "language_info": {
   "codemirror_mode": {
    "name": "ipython",
    "version": 3
   },
   "file_extension": ".py",
   "mimetype": "text/x-python",
   "name": "python",
   "nbconvert_exporter": "python",
   "pygments_lexer": "ipython3",
   "version": "3.6.3"
  }
 },
 "nbformat": 4,
 "nbformat_minor": 2
}
