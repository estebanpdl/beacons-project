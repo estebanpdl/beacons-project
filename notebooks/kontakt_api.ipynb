{
 "cells": [
  {
   "cell_type": "code",
   "execution_count": null,
   "metadata": {
    "collapsed": true
   },
   "outputs": [],
   "source": [
    "# import modules\n",
    "import requests\n",
    "import json\n",
    "import pandas as pd\n",
    "\n",
    "# stompest connection\n",
    "import socket\n",
    "from websocket import create_connection, WebSocket\n",
    "from stompest.config import StompConfig\n",
    "from stompest.sync import Stomp"
   ]
  },
  {
   "cell_type": "code",
   "execution_count": null,
   "metadata": {
    "collapsed": true
   },
   "outputs": [],
   "source": [
    "# api key\n",
    "api_key = 'DNwJnXSswWOkrwbjYeYUtWphDjrpnHjr'"
   ]
  },
  {
   "cell_type": "code",
   "execution_count": null,
   "metadata": {
    "collapsed": true
   },
   "outputs": [],
   "source": [
    "devices_ids = ['dtTgpt', 'dtbqQs', 'dtt3Jg']"
   ]
  },
  {
   "cell_type": "code",
   "execution_count": null,
   "metadata": {
    "collapsed": true
   },
   "outputs": [],
   "source": []
  },
  {
   "cell_type": "markdown",
   "metadata": {
    "collapsed": true
   },
   "source": [
    "### `Get methods`"
   ]
  },
  {
   "cell_type": "code",
   "execution_count": null,
   "metadata": {
    "collapsed": true
   },
   "outputs": [],
   "source": [
    "headers = {\n",
    "    'Api-key': api_key,\n",
    "    'Accept': 'application/vnd.com.kontakt+json;version=10'\n",
    "}\n",
    "response = requests.get(f'https://api.kontakt.io/proximities', headers=headers)"
   ]
  },
  {
   "cell_type": "code",
   "execution_count": null,
   "metadata": {
    "collapsed": true
   },
   "outputs": [],
   "source": [
    "response"
   ]
  },
  {
   "cell_type": "code",
   "execution_count": null,
   "metadata": {
    "collapsed": true,
    "scrolled": false
   },
   "outputs": [],
   "source": [
    "response.json()"
   ]
  },
  {
   "cell_type": "code",
   "execution_count": null,
   "metadata": {
    "collapsed": true
   },
   "outputs": [],
   "source": []
  },
  {
   "cell_type": "markdown",
   "metadata": {
    "collapsed": true
   },
   "source": [
    "### `Get presence and location`\n",
    "\n",
    "*`stomp`*"
   ]
  },
  {
   "cell_type": "code",
   "execution_count": null,
   "metadata": {
    "collapsed": true
   },
   "outputs": [],
   "source": [
    "host = 'ovs.kontakt.io'\n",
    "port = '9090'\n",
    "passcode = api_key"
   ]
  },
  {
   "cell_type": "code",
   "execution_count": null,
   "metadata": {
    "collapsed": true
   },
   "outputs": [],
   "source": [
    "client = Stomp(StompConfig(f'wss://{host}:{port}', passcode=passcode))"
   ]
  },
  {
   "cell_type": "code",
   "execution_count": null,
   "metadata": {
    "collapsed": true
   },
   "outputs": [],
   "source": [
    "client.connect(headers={'Api-key': api_key})"
   ]
  },
  {
   "cell_type": "code",
   "execution_count": null,
   "metadata": {
    "collapsed": true
   },
   "outputs": [],
   "source": [
    "client = Stomp(StompConfig(f'tcp://{host}:{port}', passcode=passcode))\n",
    "client.suscribe('/stream/19635d7f-76fc-4347-8e00-a4163f7fe180/presence',  {\"ack\": \"client\", \"id\": \"0\"})"
   ]
  },
  {
   "cell_type": "code",
   "execution_count": null,
   "metadata": {
    "collapsed": true
   },
   "outputs": [],
   "source": []
  },
  {
   "cell_type": "markdown",
   "metadata": {
    "collapsed": true
   },
   "source": [
    "*websocket*"
   ]
  },
  {
   "cell_type": "markdown",
   "metadata": {},
   "source": [
    "- https://pypi.org/project/websocket-client/\n",
    "- https://stackoverflow.com/questions/35105485/accessing-api-via-websockets-using-python\n",
    "- https://stackoverflow.com/questions/33767817/how-to-subscribe-to-websocket-api-channel-using-python\n",
    "- https://ruckus-www.s3.amazonaws.com/pdf/partners/setup-guide-kontakt.io.pdf\n",
    "\n",
    "\n",
    "\n",
    "- Data Streams https://developer.kontakt.io/backend/le/streams/\n",
    "- Monitoring https://developer.kontakt.io/backend/le/monitoring/\n",
    "- Proximity https://kontakt.io/blog/kontakt-io-proximity-api-want-help-developers/"
   ]
  },
  {
   "cell_type": "code",
   "execution_count": null,
   "metadata": {
    "collapsed": true
   },
   "outputs": [],
   "source": [
    "host = 'ovs.kontakt.io'\n",
    "port = '9090'\n",
    "passcode = api_key"
   ]
  },
  {
   "cell_type": "code",
   "execution_count": null,
   "metadata": {
    "collapsed": true
   },
   "outputs": [],
   "source": [
    "class MyWebSocket(WebSocket):\n",
    "    def recv_frame(self):\n",
    "        frame = super().recv_frame()\n",
    "        return frame"
   ]
  },
  {
   "cell_type": "markdown",
   "metadata": {},
   "source": [
    "    ws = create_connection(url, sockopt=((socket.IPPROTO_TCP, socket.TCP_NODELAY, 1),), class_=MyWebSocket)"
   ]
  },
  {
   "cell_type": "code",
   "execution_count": null,
   "metadata": {
    "collapsed": true
   },
   "outputs": [],
   "source": [
    "headers = {\n",
    "    'Api-key': api_key,\n",
    "    'Accept': 'application/vnd.com.kontakt+json;version=10'\n",
    "}"
   ]
  },
  {
   "cell_type": "code",
   "execution_count": null,
   "metadata": {
    "collapsed": true
   },
   "outputs": [],
   "source": [
    "url = f'wss://{host}:{port}/stream?apiKey={passcode}'\n",
    "ws = create_connection(url, header=headers)"
   ]
  },
  {
   "cell_type": "code",
   "execution_count": null,
   "metadata": {},
   "outputs": [],
   "source": [
    "ws.connected"
   ]
  },
  {
   "cell_type": "code",
   "execution_count": null,
   "metadata": {
    "collapsed": true
   },
   "outputs": [],
   "source": [
    "ws.send()"
   ]
  },
  {
   "cell_type": "code",
   "execution_count": null,
   "metadata": {
    "collapsed": true
   },
   "outputs": [],
   "source": [
    "ws.send(json.dumps({\n",
    "    'method': 'subscribe',\n",
    "    'channel': '/presence/stream/0C:8D:DB:D9:0D:5B'\n",
    "}))\n",
    "while True:\n",
    "    result = ws.recv()\n",
    "    print (result)"
   ]
  },
  {
   "cell_type": "code",
   "execution_count": null,
   "metadata": {
    "collapsed": true
   },
   "outputs": [],
   "source": []
  }
 ],
 "metadata": {
  "kernelspec": {
   "display_name": "Python 3",
   "language": "python",
   "name": "python3"
  },
  "language_info": {
   "codemirror_mode": {
    "name": "ipython",
    "version": 3
   },
   "file_extension": ".py",
   "mimetype": "text/x-python",
   "name": "python",
   "nbconvert_exporter": "python",
   "pygments_lexer": "ipython3",
   "version": "3.6.3"
  }
 },
 "nbformat": 4,
 "nbformat_minor": 2
}
